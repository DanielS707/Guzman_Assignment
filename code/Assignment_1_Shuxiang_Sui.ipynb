{
 "cells": [
  {
   "cell_type": "code",
   "execution_count": 1,
   "id": "33bde5bc",
   "metadata": {},
   "outputs": [],
   "source": [
    "#import libiary\n",
    "import pandas as pd\n",
    "import numpy as np\n",
    "from datetime import datetime, timedelta\n",
    "\n",
    "#import requests\n",
    "#from bs4 import BeautifulSoup\n",
    "#import re\n",
    "#import matplotlib.pyplot as plt"
   ]
  },
  {
   "cell_type": "code",
   "execution_count": 2,
   "id": "4fc8a77d",
   "metadata": {
    "scrolled": false
   },
   "outputs": [
    {
     "name": "stdout",
     "output_type": "stream",
     "text": [
      "Requirement already satisfied: holidays in c:\\apps\\anaconda\\lib\\site-packages (0.25)\n",
      "Requirement already satisfied: korean-lunar-calendar in c:\\apps\\anaconda\\lib\\site-packages (from holidays) (0.3.1)\n",
      "Requirement already satisfied: python-dateutil in c:\\apps\\anaconda\\lib\\site-packages (from holidays) (2.8.2)\n",
      "Requirement already satisfied: six>=1.5 in c:\\apps\\anaconda\\lib\\site-packages (from python-dateutil->holidays) (1.16.0)\n",
      "Note: you may need to restart the kernel to use updated packages.\n"
     ]
    }
   ],
   "source": [
    "#pip install holidays"
   ]
  },
  {
   "cell_type": "code",
   "execution_count": 3,
   "id": "965f67a6",
   "metadata": {},
   "outputs": [
    {
     "name": "stdout",
     "output_type": "stream",
     "text": [
      "US NERC Holidays:\n",
      "2019-01-01 New Year's Day\n",
      "2019-01-21 Martin Luther King Jr. Day\n",
      "2019-02-18 Washington's Birthday\n",
      "2019-05-27 Memorial Day\n",
      "2019-07-04 Independence Day\n",
      "2019-09-02 Labor Day\n",
      "2019-10-14 Columbus Day\n",
      "2019-11-11 Veterans Day\n",
      "2019-11-28 Thanksgiving\n",
      "2019-12-25 Christmas Day\n"
     ]
    }
   ],
   "source": [
    "import holidays\n",
    "\n",
    "us_holidays = holidays.US(years=2019, prov='NERC')\n",
    "\n",
    "print(\"US NERC Holidays:\")\n",
    "for date, name in sorted(us_holidays.items()):\n",
    "    print(date, name)"
   ]
  },
  {
   "cell_type": "markdown",
   "id": "cd6a9104",
   "metadata": {},
   "source": [
    "### Assignment 1: Power Calendar function"
   ]
  },
  {
   "cell_type": "markdown",
   "id": "0d370859",
   "metadata": {},
   "source": [
    "**iso (character):** one of PJM/MISO/ERCOT/SPP/NYISO/WECC/CAISO (see item 1 below)  \n",
    "**peak.type (character):** one of onpeak/offpeak/flat/2x16H/7x8  \n",
    "**period (character):** has 4 types: “2018-2-3” as a daily, “2018Mar” as a monthly, “2018Q2” as a quarterly, “2018A” as an annually."
   ]
  },
  {
   "cell_type": "markdown",
   "id": "3fbde43d",
   "metadata": {},
   "source": [
    "1. In US, there are 7 major ISOs: see https://www.ferc.gov/power-sales-and-markets/rtos-and-isos  \n",
    "PJMISO, MISO, ERCOT, SPPISO, NYISO are eastern,   \n",
    "WECC and CAISO is western.\n",
    "2. HE, short for Hour Ending. HE2 means 01:00 - 02:00, HE14 means 13:00 - 14:00. For each single day, we have HE1 to HE24.\n",
    "3. peak.type, eastern power market considers a HE to be onpeak, if it's a non-NERC holiday weekday from HE7 to HE22, the rest are offpeak HEs. If the peak.type is flat, that means every hour. (Hint, R package “timeDate” gives NERC holidays). 2x16H is HE7 to HE22 for the weekend and the NERC holiday. 7x8 is non HE7 to HE22 through the week.\n",
    "4. Western market accepts all the assumptions from Eastern, moreover, it takes Saturday as a weekday.\n",
    "5. MISO does not have the daylight-saving setting, the rest have. (Hint: daylight-savings will impact the function for certain month/peak.type.)"
   ]
  },
  {
   "cell_type": "code",
   "execution_count": 4,
   "id": "09068e66",
   "metadata": {},
   "outputs": [],
   "source": [
    "#define function:\n",
    "def get_hours(iso, peak_type, period):\n",
    "    # Process Period: period (character): has 4 types\n",
    "    ##define each input by length:\n",
    "    period_length = len(period)\n",
    "    \n",
    "    #check first 4 characters:\n",
    "    if not period[:4].isdigit():\n",
    "        raise ValueError(\"This is a Wrong Input,\\n Input instruction: \\n“2018-2-3” as a daily, “2018Mar” as a monthly, “2018Q2” as a quarterly, “2018A” as an annually.\")\n",
    "    \n",
    "    #Define year\n",
    "    year = int(period[:4])\n",
    "\n",
    "    #Annually\n",
    "    if period_length == 5: \n",
    "        start_date = datetime(year, 1, 1)\n",
    "        end_date = datetime(year, 12, 31)\n",
    "    \n",
    "    #Quarterly\n",
    "    elif period_length == 6: \n",
    "        quarter = int(period[5])\n",
    "        \n",
    "        start_month = 3 * (quarter - 1) + 1\n",
    "        start_date = datetime(year, start_month, 1)\n",
    "        \n",
    "        end_month = start_month + 2\n",
    "        end_date = (datetime(year, end_month + 1, 1) - timedelta(days=1))\n",
    "\n",
    "    #Monthly\n",
    "    elif period_length == 7: \n",
    "        month = datetime.strptime(period[4:], \"%b\").month\n",
    "        start_date = datetime(year, month, 1)\n",
    "        end_date = (datetime(year, month + 1, 1) - timedelta(days=1))\n",
    "\n",
    "    # Daily\n",
    "    elif period_length > 7 and period[-1].isdigit():\n",
    "        start_date = datetime.strptime(period, \"%Y-%m-%d\") #phrase to datetime format\n",
    "        end_date = start_date\n",
    "    else:\n",
    "        raise ValueError(\"This is a Wrong Input,\\n Input instruction: \\n“2018-2-3” as a daily, “2018Mar” as a monthly, “2018Q2” as a quarterly, “2018A” as an annually.\")\n",
    "\n",
    "    # Process peak type\n",
    "    ## peak.type (character): one of onpeak/offpeak/flat/2x16H/7x8\n",
    "    \n",
    "    #daylight saving indicator\n",
    "    include = 0 \n",
    "    days = pd.date_range(start=start_date, end=end_date, freq='D')\n",
    "\n",
    "    #Flat Peak for all day\n",
    "    if peak_type == \"flat\":\n",
    "        include = 1\n",
    "        hours = len(days) * 24\n",
    "\n",
    "    #everyday of a week, for 8 hours\n",
    "    elif peak_type == \"7x8\":\n",
    "        include = 1\n",
    "        hours = len(days) * 8\n",
    "\n",
    "    else:\n",
    "        weekdays = days.weekday\n",
    "        year_holidays = [datetime.strptime(date_str, \"%Y-%m-%d\") for date_str in [\"2019-01-01\", \"2019-05-27\", \"2019-07-04\", \"2019-09-02\", \"2019-11-28\", \"2019-12-25\"]]\n",
    "        holidays = [d for d in year_holidays if start_date <= d <= end_date]\n",
    "        non_holidays = [d for d in days if d not in holidays]\n",
    "\n",
    "        # Process ISO\n",
    "        if iso in [\"PJMISO\", \"MISO\", \"ERCOT\", \"SPPISO\", \"NYISO\"]:  # Eastern market\n",
    "            weekend = [5, 6]\n",
    "        elif iso in [\"WECC\", \"CAISO\"]:  # Western market\n",
    "            weekend = [5]\n",
    "        else:\n",
    "            raise ValueError(\"Wrong input of iso\")\n",
    "\n",
    "        non_holiday_weekdays = [d for d in non_holidays if d.weekday() not in weekend]\n",
    "\n",
    "        if peak_type == \"onpeak\":\n",
    "            hours = len(non_holiday_weekdays) * 16\n",
    "\n",
    "        elif peak_type == \"offpeak\":\n",
    "            include = 1\n",
    "            hours = len(days) * 24 - len(non_holiday_weekdays) * 16\n",
    "\n",
    "        elif peak_type == \"2x16H\":\n",
    "            weekend_holidays = list(set(holidays).union(set(days[weekdays.isin(weekend)])))\n",
    "            hours = len(set(weekend_holidays)) * 16\n",
    "\n",
    "    #Day light saving\n",
    "    if iso != \"MISO\" and include == 1:  # only MISO not participate\n",
    "        march_dates = pd.date_range(start=datetime(year, 3, 1), end=datetime(year, 3, 31))\n",
    "        march_sundays = [d for d in march_dates if d.weekday() == 6]\n",
    "        # Add daylight-saving time\n",
    "\n",
    "    # Return the result\n",
    "    result = {\n",
    "        \"iso\": iso,\n",
    "        \"peak_type\": peak_type,\n",
    "        \"start_date\": start_date,\n",
    "        \"end_date\": end_date,\n",
    "        \"num_hour\": hours\n",
    "    }\n",
    "    return result\n"
   ]
  },
  {
   "cell_type": "code",
   "execution_count": 5,
   "id": "0dc3753a",
   "metadata": {},
   "outputs": [
    {
     "data": {
      "text/plain": [
       "{'iso': 'ERCOT',\n",
       " 'peak_type': 'onpeak',\n",
       " 'start_date': datetime.datetime(2019, 5, 1, 0, 0),\n",
       " 'end_date': datetime.datetime(2019, 5, 31, 0, 0),\n",
       " 'num_hour': 352}"
      ]
     },
     "execution_count": 5,
     "metadata": {},
     "output_type": "execute_result"
    }
   ],
   "source": [
    "try1 = get_hours(\"ERCOT\", \"onpeak\", \"2019May\")\n",
    "try1"
   ]
  }
 ],
 "metadata": {
  "kernelspec": {
   "display_name": "Python 3 (ipykernel)",
   "language": "python",
   "name": "python3"
  },
  "language_info": {
   "codemirror_mode": {
    "name": "ipython",
    "version": 3
   },
   "file_extension": ".py",
   "mimetype": "text/x-python",
   "name": "python",
   "nbconvert_exporter": "python",
   "pygments_lexer": "ipython3",
   "version": "3.9.7"
  }
 },
 "nbformat": 4,
 "nbformat_minor": 5
}
