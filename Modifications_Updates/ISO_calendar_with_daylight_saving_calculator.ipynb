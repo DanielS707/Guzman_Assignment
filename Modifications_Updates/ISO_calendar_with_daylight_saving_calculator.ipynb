{
 "cells": [
  {
   "cell_type": "code",
   "execution_count": 4,
   "id": "586d0147",
   "metadata": {},
   "outputs": [],
   "source": [
    "import re\n",
    "from datetime import datetime, timedelta\n",
    "import pandas as pd\n",
    "from isoweek import Week\n",
    "#pip install isoweek"
   ]
  },
  {
   "cell_type": "code",
   "execution_count": 15,
   "id": "877c9dbb",
   "metadata": {},
   "outputs": [],
   "source": [
    "def get_hours(iso, peak_type, period):\n",
    "    # Regular expressions for different period formats\n",
    "    period_patterns = {\n",
    "        'annually': r'(\\d{4})A',\n",
    "        'quarterly': r'(\\d{4})Q(\\d)',\n",
    "        'monthly': r'(\\d{4})(Jan|Feb|Mar|Apr|May|Jun|Jul|Aug|Sep|Oct|Nov|Dec)',\n",
    "        'daily': r'(\\d{4})-(\\d{2})-(\\d{2})'\n",
    "    }\n",
    "\n",
    "    # Match period with the correct format\n",
    "    for period_type, pattern in period_patterns.items():\n",
    "        match = re.match(pattern, period)\n",
    "        if match:\n",
    "            break\n",
    "    else:\n",
    "        raise ValueError(\"This is a Wrong Input,\\n Input instruction: \\n“2018-2-3” as a daily, “2018Mar” as a monthly, “2018Q2” as a quarterly, “2018A” as an annually.\")\n",
    "\n",
    "    year = int(match.group(1))\n",
    "    \n",
    "\n",
    "    # Define start and end dates based on period type\n",
    "    if period_type == 'annually':\n",
    "        \n",
    "        start_date = datetime(year, 1, 1)\n",
    "        end_date = datetime(year, 12, 31)\n",
    "    elif period_type == 'quarterly':\n",
    "        quarter = int(match.group(2))\n",
    "        start_month = 3 * (quarter - 1) + 1\n",
    "        start_date = datetime(year, start_month, 1)\n",
    "        end_month = start_month + 2\n",
    "        end_date = (datetime(year, end_month + 1, 1) - timedelta(days=1))\n",
    "    #detect month from 3 characters abbreviation\n",
    "    elif period_type == 'monthly':\n",
    "        month = datetime.strptime(match.group(2), \"%b\").month\n",
    "        start_date = datetime(year, month, 1)\n",
    "        end_date = (datetime(year, month + 1, 1) - timedelta(days=1))\n",
    "    elif period_type == 'daily':\n",
    "        start_date = datetime.strptime(period, \"%Y-%m-%d\")\n",
    "        end_date = start_date\n",
    "\n",
    "    # Process peak type\n",
    "    include = 0 \n",
    "    days = pd.date_range(start=start_date, end=end_date, freq='D')\n",
    "\n",
    "    # Flat Peak for all day\n",
    "    if peak_type == \"flat\":\n",
    "        include = 1\n",
    "        hours = len(days) * 24\n",
    "    elif peak_type == \"7x8\":\n",
    "        include = 1\n",
    "        hours = len(days) * 8\n",
    "    else:\n",
    "        weekdays = days.weekday\n",
    "        year_holidays = [Week(year, week).monday() for week in range(1, 53) if Week(year, week).monday().isocalendar()[1] in [1, 52, 53]]\n",
    "        holidays = [d for d in year_holidays if start_date.date() <= d <= end_date.date()]\n",
    "        non_holidays = [d for d in days if d not in holidays]\n",
    "\n",
    "        # Process ISO\n",
    "        if iso in [\"PJMISO\", \"MISO\", \"ERCOT\", \"SPPISO\", \"NYISO\"]:  # Eastern market\n",
    "            weekend = [5, 6]\n",
    "        elif iso in [\"WECC\", \"CAISO\"]:  # Western market\n",
    "            weekend = [5]\n",
    "        else:\n",
    "            raise ValueError(\"Wrong input of iso\")\n",
    "\n",
    "        non_holiday_weekdays = [d for d in non_holidays if d.weekday() not in weekend]\n",
    "\n",
    "        if peak_type == \"onpeak\":\n",
    "            hours = len(non_holiday_weekdays) * 16\n",
    "\n",
    "        elif peak_type == \"offpeak\":\n",
    "            include = 1\n",
    "            hours = len(days) * 24 - len(non_holiday_weekdays) * 16\n",
    "\n",
    "        elif peak_type == \"2x16H\":\n",
    "            weekend_holidays = list(set(holidays).union(set(days[weekdays.isin(weekend)])))\n",
    "            hours = len(set(weekend_holidays)) * 16\n",
    "\n",
    "    #Daylight saving\n",
    "    if iso != \"MISO\" and include == 1:  # only MISO not participate\n",
    "        march_dates = pd.date_range(start=datetime(year, 3, 1), end=datetime(year, 3, 31))\n",
    "        november_dates = pd.date_range(start=datetime(year, 11, 1), end=datetime(year, 11, 30))\n",
    "\n",
    "        # Find the second Sunday in March and the first Sunday in November\n",
    "        march_sunday = [d for d in march_dates if d.weekday() == 6][1]\n",
    "        november_sunday = [d for d in november_dates if d.weekday() == 6][0]\n",
    "\n",
    "        # If the peak type is 7x8, adjust the number of hours\n",
    "        if peak_type == \"7x8\":\n",
    "            if start_date <= march_sunday <= end_date:\n",
    "                hours += 1  # Add an hour for the start of daylight saving time\n",
    "            if start_date <= november_sunday <= end_date:\n",
    "                hours -= 1  # Subtract an hour for the end of daylight saving time\n",
    "\n",
    "    # Return the result\n",
    "    result = {\n",
    "        \"iso\": iso,\n",
    "        \"peak_type\": peak_type,\n",
    "        \"start_date\": start_date,\n",
    "        \"end_date\": end_date,\n",
    "        \"num_hour\": hours\n",
    "    }\n",
    "    return result\n"
   ]
  },
  {
   "cell_type": "markdown",
   "id": "046fd31f",
   "metadata": {},
   "source": [
    "## The Daylight Saving Time adjustment of one hour is accounted for in the '7x8' category since it only occurs at 3AM on Sundays."
   ]
  },
  {
   "cell_type": "code",
   "execution_count": 17,
   "id": "6502c88c",
   "metadata": {},
   "outputs": [
    {
     "data": {
      "text/plain": [
       "{'iso': 'ERCOT',\n",
       " 'peak_type': 'offpeak',\n",
       " 'start_date': datetime.datetime(2019, 3, 1, 0, 0),\n",
       " 'end_date': datetime.datetime(2019, 3, 31, 0, 0),\n",
       " 'num_hour': 408}"
      ]
     },
     "execution_count": 17,
     "metadata": {},
     "output_type": "execute_result"
    }
   ],
   "source": [
    "try1 = get_hours(\"ERCOT\", \"offpeak\", \"2019Mar\")\n",
    "try1"
   ]
  },
  {
   "cell_type": "code",
   "execution_count": null,
   "id": "f933a566",
   "metadata": {},
   "outputs": [],
   "source": []
  }
 ],
 "metadata": {
  "kernelspec": {
   "display_name": "Python 3 (ipykernel)",
   "language": "python",
   "name": "python3"
  },
  "language_info": {
   "codemirror_mode": {
    "name": "ipython",
    "version": 3
   },
   "file_extension": ".py",
   "mimetype": "text/x-python",
   "name": "python",
   "nbconvert_exporter": "python",
   "pygments_lexer": "ipython3",
   "version": "3.9.7"
  }
 },
 "nbformat": 4,
 "nbformat_minor": 5
}
